{
 "cells": [
  {
   "cell_type": "code",
   "execution_count": 1,
   "id": "74a6d4be",
   "metadata": {},
   "outputs": [],
   "source": [
    "from metaflow import Flow"
   ]
  },
  {
   "cell_type": "code",
   "execution_count": 2,
   "id": "6e67524e",
   "metadata": {},
   "outputs": [],
   "source": [
    "run = Flow('ClassifierTrainFlow').latest_run"
   ]
  },
  {
   "cell_type": "code",
   "execution_count": 3,
   "id": "ed5685d6",
   "metadata": {},
   "outputs": [
    {
     "data": {
      "text/plain": [
       "array([[1.369e+01, 3.260e+00, 2.540e+00, ..., 9.600e-01, 1.820e+00,\n",
       "        6.800e+02],\n",
       "       [1.269e+01, 1.530e+00, 2.260e+00, ..., 9.600e-01, 2.060e+00,\n",
       "        4.950e+02],\n",
       "       [1.162e+01, 1.990e+00, 2.280e+00, ..., 1.160e+00, 2.960e+00,\n",
       "        3.450e+02],\n",
       "       ...,\n",
       "       [1.242e+01, 1.610e+00, 2.190e+00, ..., 1.060e+00, 2.960e+00,\n",
       "        3.450e+02],\n",
       "       [1.390e+01, 1.680e+00, 2.120e+00, ..., 9.100e-01, 3.330e+00,\n",
       "        9.850e+02],\n",
       "       [1.416e+01, 2.510e+00, 2.480e+00, ..., 6.200e-01, 1.710e+00,\n",
       "        6.600e+02]])"
      ]
     },
     "execution_count": 3,
     "metadata": {},
     "output_type": "execute_result"
    }
   ],
   "source": [
    "run['start'].task.data.train_data"
   ]
  },
  {
   "cell_type": "code",
   "execution_count": null,
   "id": "a4bfba95",
   "metadata": {},
   "outputs": [],
   "source": []
  }
 ],
 "metadata": {
  "kernelspec": {
   "display_name": "Python 3",
   "language": "python",
   "name": "python3"
  },
  "language_info": {
   "codemirror_mode": {
    "name": "ipython",
    "version": 3
   },
   "file_extension": ".py",
   "mimetype": "text/x-python",
   "name": "python",
   "nbconvert_exporter": "python",
   "pygments_lexer": "ipython3",
   "version": "3.7.11"
  }
 },
 "nbformat": 4,
 "nbformat_minor": 5
}
